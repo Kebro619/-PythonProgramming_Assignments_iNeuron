{
 "cells": [
  {
   "attachments": {},
   "cell_type": "markdown",
   "metadata": {},
   "source": [
    "### 1.Write a Python Program to Display Fibonacci Sequence Using Recursion?"
   ]
  },
  {
   "cell_type": "code",
   "execution_count": 1,
   "metadata": {},
   "outputs": [
    {
     "name": "stdout",
     "output_type": "stream",
     "text": [
      "0\n",
      "1\n",
      "1\n",
      "2\n",
      "3\n"
     ]
    }
   ],
   "source": [
    "def fibo(n):\n",
    "    if n==1:\n",
    "        return 0\n",
    "\n",
    "    elif n ==2:\n",
    "        return 1\n",
    "\n",
    "    else:\n",
    "        return  (fibo(n-1) + fibo(n-2))\n",
    "\n",
    "n = int(input(\"Enter number of terms\"))\n",
    "for i in range(1,n+1):\n",
    "    print(fibo(i))\n",
    "\n",
    "#source: https://www.youtube.com/watch?v=L5ID6qbgkhc&ab_channel=codeitup"
   ]
  },
  {
   "attachments": {},
   "cell_type": "markdown",
   "metadata": {},
   "source": [
    "### 2.Write a Python Program to Find Factorial of Number Using Recursion?"
   ]
  },
  {
   "cell_type": "code",
   "execution_count": 2,
   "metadata": {},
   "outputs": [
    {
     "name": "stdout",
     "output_type": "stream",
     "text": [
      "factorial of 5 is = 120\n"
     ]
    }
   ],
   "source": [
    "def facto(n):\n",
    "    if n <0:\n",
    "        return \"Input +ve no\"\n",
    "\n",
    "    elif n == 0:\n",
    "        return 1\n",
    "\n",
    "    elif n ==1:\n",
    "        return 1\n",
    "\n",
    "    else:\n",
    "       return n*(facto(n-1))\n",
    "            \n",
    "\n",
    "n = int(input(\"Input a whole number :\"))\n",
    "print(f\"factorial of {n} is =\" ,facto(n))"
   ]
  },
  {
   "attachments": {},
   "cell_type": "markdown",
   "metadata": {},
   "source": [
    "### 3.Write a Python Program to calculate your Body Mass Index?"
   ]
  },
  {
   "cell_type": "code",
   "execution_count": 6,
   "metadata": {},
   "outputs": [
    {
     "name": "stdout",
     "output_type": "stream",
     "text": [
      "You BMI is 21.04981790236894\n",
      "You are healthy.\n"
     ]
    }
   ],
   "source": [
    "def bmi(height,weight):\n",
    "    BMI = weight/(height**2)\n",
    "    print(f\"You BMI is {BMI}\")\n",
    "\n",
    "    if BMI <= 18.4:\n",
    "        print(\"You are underweight.\")\n",
    "    elif BMI <= 24.9:\n",
    "        print(\"You are healthy.\")\n",
    "    elif BMI <= 29.9:\n",
    "        print(\"You are over weight.\")\n",
    "    elif BMI <= 34.9:\n",
    "        print(\"You are severely over weight.\")\n",
    "    elif BMI <= 39.9:\n",
    "        print(\"You are obese.\")\n",
    "    else:\n",
    "        print(\"You are severely obese.\")\n",
    "\n",
    "    \n",
    "height = float(input(\"Enter your height in meter : \"))\n",
    "weight = float(input(\"Enter your weight in kg : \"))\n",
    "bmi(height,weight)"
   ]
  },
  {
   "attachments": {},
   "cell_type": "markdown",
   "metadata": {},
   "source": [
    "### 4.Write a Python Program to calculate the natural logarithm of any number?"
   ]
  },
  {
   "cell_type": "code",
   "execution_count": 4,
   "metadata": {},
   "outputs": [
    {
     "name": "stdout",
     "output_type": "stream",
     "text": [
      "Naturla log of 63.0 is 4.143134726391533\n"
     ]
    }
   ],
   "source": [
    "import math\n",
    "\n",
    "n = float(input(\"Enter the number \"))\n",
    "\n",
    "natural_log = math.log(n)\n",
    "\n",
    "print(f\"Naturla log of {n} is {natural_log}\")"
   ]
  },
  {
   "attachments": {},
   "cell_type": "markdown",
   "metadata": {},
   "source": [
    "### 5.Write a Python Program for cube sum of first n natural numbers?"
   ]
  },
  {
   "cell_type": "code",
   "execution_count": 5,
   "metadata": {},
   "outputs": [
    {
     "name": "stdout",
     "output_type": "stream",
     "text": [
      "Cube sum of first 5 is 225\n"
     ]
    }
   ],
   "source": [
    "n=int(input('Enter the number '))\n",
    "\n",
    "if n <=0:\n",
    "    print(\"!!!!Enter an Natural  number!!! \")\n",
    "\n",
    "else:\n",
    "    i =1\n",
    "    sum = 0\n",
    "    while i <= n:\n",
    "        sum = sum +i**3\n",
    "\n",
    "        i = i+1\n",
    "\n",
    "    print(f'Cube sum of first {n} is {sum}')"
   ]
  }
 ],
 "metadata": {
  "kernelspec": {
   "display_name": "Python 3",
   "language": "python",
   "name": "python3"
  },
  "language_info": {
   "codemirror_mode": {
    "name": "ipython",
    "version": 3
   },
   "file_extension": ".py",
   "mimetype": "text/x-python",
   "name": "python",
   "nbconvert_exporter": "python",
   "pygments_lexer": "ipython3",
   "version": "3.7.8"
  },
  "orig_nbformat": 4,
  "vscode": {
   "interpreter": {
    "hash": "94f7dda7d5540cc5cde97bba35d27a0f0c8befacfa5e2ae35accbc8cc40ff54b"
   }
  }
 },
 "nbformat": 4,
 "nbformat_minor": 2
}
