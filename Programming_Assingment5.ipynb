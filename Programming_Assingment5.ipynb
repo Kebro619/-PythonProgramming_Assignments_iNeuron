{
 "cells": [
  {
   "cell_type": "markdown",
   "metadata": {},
   "source": [
    "### 1. Write a Python Program to Find LCM?"
   ]
  },
  {
   "cell_type": "code",
   "execution_count": 2,
   "metadata": {},
   "outputs": [
    {
     "name": "stdout",
     "output_type": "stream",
     "text": [
      "Enter the first number 12\n",
      "Enter the second number 24\n",
      "LCM of 12 and 24 is  24\n"
     ]
    }
   ],
   "source": [
    "def find_lcm(x,y):\n",
    "    maximum=max(x,y)\n",
    "\n",
    "    while True:\n",
    "        if maximum%x ==0 and maximum%y==0:\n",
    "            return f\"LCM of {x} and {y} is  {maximum}\"\n",
    "            break\n",
    "\n",
    "        maximum+=1\n",
    "\n",
    "num1=int(input('Enter the first number '))\n",
    "num2=int(input('Enter the second number '))\n",
    "print(find_lcm(num1,num2))\n"
   ]
  },
  {
   "cell_type": "markdown",
   "metadata": {},
   "source": [
    "### 2. Write a Python Program to Find HCF?"
   ]
  },
  {
   "cell_type": "code",
   "execution_count": 3,
   "metadata": {},
   "outputs": [
    {
     "name": "stdout",
     "output_type": "stream",
     "text": [
      "Enter number 1 :12\n",
      "Enter number 2 :24\n",
      "The H.C.F. is 12\n"
     ]
    }
   ],
   "source": [
    "def find_hcf(x,y):\n",
    "    smallno=min(x,y)\n",
    "\n",
    "    for i in range(1,smallno+1):\n",
    "        if x%i==0 and y%i==0:\n",
    "            hcf=i\n",
    "        \n",
    "    return hcf\n",
    "num1=int(input(\"Enter number 1 :\"))\n",
    "num2=int(input(\"Enter number 2 :\"))\n",
    "\n",
    "print(\"The H.C.F. is\", find_hcf(num1, num2))\n"
   ]
  },
  {
   "cell_type": "markdown",
   "metadata": {},
   "source": [
    "### 3. Write a Python Program to Convert Decimal to Binary, Octal and Hexadecimal?"
   ]
  },
  {
   "cell_type": "code",
   "execution_count": 4,
   "metadata": {},
   "outputs": [
    {
     "name": "stdout",
     "output_type": "stream",
     "text": [
      "Binary: 0b1010\n",
      "Octal: 0o12\n",
      "Hexadecimal: 0xa\n"
     ]
    }
   ],
   "source": [
    "def convert(n):\n",
    "  # convert the decimal number to binary and print the result\n",
    "  binary = bin(n)\n",
    "  print(f\"Binary: {binary}\")\n",
    "\n",
    "  # convert the decimal number to octal and print the result\n",
    "  octal = oct(n)\n",
    "  print(f\"Octal: {octal}\")\n",
    "\n",
    "  # convert the decimal number to hexadecimal and print the result\n",
    "  hexadecimal = hex(n)\n",
    "  print(f\"Hexadecimal: {hexadecimal}\")\n",
    "\n",
    "# test the function\n",
    "convert(10)  # should print \"Binary: 0b1010\", \"Octal: 0o12\", \"Hexadecimal: 0xa\""
   ]
  },
  {
   "cell_type": "markdown",
   "metadata": {},
   "source": [
    "### 4. Write a Python Program To Find ASCII value of a character?"
   ]
  },
  {
   "cell_type": "code",
   "execution_count": 50,
   "metadata": {},
   "outputs": [
    {
     "name": "stdout",
     "output_type": "stream",
     "text": [
      "ASCII value of A is 65\n"
     ]
    }
   ],
   "source": [
    "def ascii_value():\n",
    "    char = input('Enter a charachter !!')\n",
    "\n",
    "    print(f\"ASCII value of {char} is {ord(char)}\")\n",
    "ascii_value()"
   ]
  },
  {
   "cell_type": "markdown",
   "metadata": {},
   "source": [
    "### 5. Write a Python Program to Make a Simple Calculator with 4 basic mathematical operations?"
   ]
  },
  {
   "cell_type": "code",
   "execution_count": 5,
   "metadata": {},
   "outputs": [
    {
     "name": "stdout",
     "output_type": "stream",
     "text": [
      "3 + 4 = 7\n",
      "3 - 4 = -1\n",
      "3 * 4 = 12\n",
      "3 / 4 = 0.75\n",
      "Invalid operator\n"
     ]
    }
   ],
   "source": [
    "# define a function to perform the calculation\n",
    "def calculate(a, b, op):\n",
    "  # perform the requested operation and print the result\n",
    "  if op == '+':\n",
    "    print(f\"{a} + {b} = {a + b}\")\n",
    "  elif op == '-':\n",
    "    print(f\"{a} - {b} = {a - b}\")\n",
    "  elif op == '*':\n",
    "    print(f\"{a} * {b} = {a * b}\")\n",
    "  elif op == '/':\n",
    "    print(f\"{a} / {b} = {a / b}\")\n",
    "  else:\n",
    "    print(\"Invalid operator\")\n",
    "\n",
    "# test the function\n",
    "calculate(3, 4, '+') \n",
    "calculate(3, 4, '-') \n",
    "calculate(3, 4, '*') \n",
    "calculate(3, 4, '/') \n",
    "calculate(3, 4, '$') \n"
   ]
  }
 ],
 "metadata": {
  "kernelspec": {
   "display_name": "Python 3 (ipykernel)",
   "language": "python",
   "name": "python3"
  },
  "language_info": {
   "codemirror_mode": {
    "name": "ipython",
    "version": 3
   },
   "file_extension": ".py",
   "mimetype": "text/x-python",
   "name": "python",
   "nbconvert_exporter": "python",
   "pygments_lexer": "ipython3",
   "version": "3.7.8"
  },
  "vscode": {
   "interpreter": {
    "hash": "ad2bdc8ecc057115af97d19610ffacc2b4e99fae6737bb82f5d7fb13d2f2c186"
   }
  }
 },
 "nbformat": 4,
 "nbformat_minor": 2
}
